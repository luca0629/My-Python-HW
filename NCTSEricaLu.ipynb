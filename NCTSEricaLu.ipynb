{
 "cells": [
  {
   "cell_type": "code",
   "execution_count": null,
   "metadata": {},
   "outputs": [
    {
     "name": "stdout",
     "output_type": "stream",
     "text": [
      "聽個笑話，放鬆一下吧!\n",
      ">>講個笑話來聽聽\n",
      "哈利波特裡面誰最有主見？  A:佛地魔， 因為他不會被牽著鼻子走\n",
      ">>哈哈哈\n",
      "喜歡的話，分享出去吧!\n",
      ">>再說一個吧\n",
      "有一天小明去圖書館，小明：我要一碗牛肉麵;櫃檯：先生 這裡是圖書館，小明：喔喔好 （氣音）我要一碗牛肉麵\n",
      ">>笑死\n",
      "有一天小明去圖書館，小明：我要一碗牛肉麵;櫃檯：先生 這裡是圖書館，小明：喔喔好 （氣音）我要一碗牛肉麵\n",
      ">>再說一個\n",
      "液晶的媽媽叫什麼名字？ 液晶螢幕......\n",
      ">>bye\n",
      "Bye bye!\n"
     ]
    }
   ],
   "source": [
    "%matplotlib inline\n",
    "#簡易版笑話機器人#\n",
    "import numpy as np\n",
    "import matplotlib.pyplot as plt\n",
    "import pandas as pd\n",
    "import random\n",
    "\n",
    "print('聽個笑話，放鬆一下吧!')\n",
    "eggs = \" \" \n",
    "while eggs !='笑話': \n",
    "    eggs = input('>>')\n",
    "    if eggs =='bye': \n",
    "        print('Bye bye!')#當輸入bye會回覆byebye\n",
    "    elif'哈哈'in eggs:\n",
    "        print('喜歡的話，分享出去吧!') #如果輸入哈哈會顯示喜歡的話，分享出去吧!\n",
    "    else:\n",
    "        print (random.choice(['有一天有一位型男走在路上，一個阿嬤突然上前搭訕:「帥哥，你超會搭耶」，然後帥哥就冒煙了',\n",
    "                              '川普壓馬路=壓馬路普',\n",
    "                              '有一天小明去圖書館，小明：我要一碗牛肉麵;櫃檯：先生 這裡是圖書館，小明：喔喔好 （氣音）我要一碗牛肉麵',\n",
    "                              '哈利波特裡面誰最有主見？  A:佛地魔， 因為他不會被牽著鼻子走',\n",
    "                              '液晶的媽媽叫什麼名字？ 液晶螢幕......']))\n",
    "  #其他回應則是會隨機選出笑話來"
   ]
  },
  {
   "cell_type": "code",
   "execution_count": null,
   "metadata": {},
   "outputs": [],
   "source": []
  }
 ],
 "metadata": {
  "kernelspec": {
   "display_name": "Python 3",
   "language": "python",
   "name": "python3"
  },
  "language_info": {
   "codemirror_mode": {
    "name": "ipython",
    "version": 3
   },
   "file_extension": ".py",
   "mimetype": "text/x-python",
   "name": "python",
   "nbconvert_exporter": "python",
   "pygments_lexer": "ipython3",
   "version": "3.6.5"
  }
 },
 "nbformat": 4,
 "nbformat_minor": 2
}
